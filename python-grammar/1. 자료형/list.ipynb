{
 "cells": [
  {
   "cell_type": "markdown",
   "id": "4f267fb1",
   "metadata": {},
   "source": [
    "# 리스트 자료형"
   ]
  },
  {
   "cell_type": "code",
   "execution_count": null,
   "id": "a246cf2f",
   "metadata": {},
   "outputs": [],
   "source": [
    "#List > 배열, 테이블\n",
    "#여러 개의 데이터를 연속적으로 담아 처리하기 위해 사용.\n",
    "\n",
    "a = [1, 2, 3, 4, 5]\n",
    "print(a)\n",
    "\n",
    "#인덱스 3, 네번째 원소에 접근\n",
    "print(a[3])\n",
    "\n",
    "#빈 리스트 선언 1)\n",
    "a = list()\n",
    "print(a)\n",
    "\n",
    "#빈 리스트 선언 2)\n",
    "a = []\n",
    "print(a)\n",
    "\n",
    "#in coding-test\n",
    "#크기가 N인 1차원 리스트 초기화 방법\n",
    "n = 10\n",
    "a = [0] * n\n",
    "print(a)\n",
    "\n",
    "#리스트의 인덱싱과 슬라이싱\n",
    "a = [1,2,3,4,5]\n",
    "\n",
    "#인덱싱 : 리스트의 특정한 원소에 접근\n",
    "print(a[-1])\n",
    "#두번째 원소 값 변경\n",
    "a[1] = 5\n",
    "print(a)\n",
    "\n",
    "#슬라이싱 : 리스트에서 연속적인 위치를 갖는 원소들을 갖와야 할 때.\n",
    "#두 번째부터 네 번째 원소까지\n",
    "print(a[1:4])\n"
   ]
  },
  {
   "cell_type": "markdown",
   "id": "e8f6ac2b",
   "metadata": {},
   "source": [
    "&nbsp;\n",
    "\n",
    "## 리스트 컴프리헨션\n",
    "### : 리스트를 초기화하는 방법 중 하나"
   ]
  },
  {
   "cell_type": "markdown",
   "id": "437ced0e",
   "metadata": {},
   "source": [
    "\n",
    "### 0부터  19까지의 수 중에서 홀수만 포함하는 리스트"
   ]
  },
  {
   "cell_type": "code",
   "execution_count": 4,
   "id": "ad8600fb",
   "metadata": {},
   "outputs": [
    {
     "name": "stdout",
     "output_type": "stream",
     "text": [
      "[1, 3, 5, 7, 9, 11, 13, 15, 17, 19]\n"
     ]
    }
   ],
   "source": [
    "array = [i for i in range(20) if i%2 == 1]\n",
    "print(array)"
   ]
  },
  {
   "cell_type": "markdown",
   "id": "0cb122be",
   "metadata": {},
   "source": [
    "### 1부터 9까지의 수의 제곱값을 포함하는 리스트"
   ]
  },
  {
   "cell_type": "code",
   "execution_count": 6,
   "id": "f75b7936",
   "metadata": {},
   "outputs": [
    {
     "name": "stdout",
     "output_type": "stream",
     "text": [
      "[1, 4, 9, 16, 25, 36, 49, 64, 81]\n"
     ]
    }
   ],
   "source": [
    "array = [i * i for i in range(1,10)]\n",
    "print(array)"
   ]
  },
  {
   "cell_type": "markdown",
   "id": "e41a05e3",
   "metadata": {},
   "source": [
    "&nbsp;\n",
    "## 2차원 리스트 초기화\n",
    "### 특정한 크기를 가지는 2차원 리스트를 초기화할 때에는 리스트 컴프리헨션을 이용***"
   ]
  },
  {
   "cell_type": "code",
   "execution_count": 7,
   "id": "36e024ab",
   "metadata": {},
   "outputs": [
    {
     "name": "stdout",
     "output_type": "stream",
     "text": [
      "[[0, 0, 0], [0, 0, 0], [0, 0, 0]]\n"
     ]
    }
   ],
   "source": [
    "#NXM 리스트\n",
    "n = 3\n",
    "m = 3\n",
    "array = [[0] * m for _ in range(n)]\n",
    "print(array)"
   ]
  },
  {
   "cell_type": "code",
   "execution_count": 8,
   "id": "befb579a",
   "metadata": {},
   "outputs": [
    {
     "name": "stdout",
     "output_type": "stream",
     "text": [
      "[[0, 0, 0, 0], [0, 0, 0, 0], [0, 0, 0, 0]]\n",
      "[[0, 5, 0, 0], [0, 5, 0, 0], [0, 5, 0, 0]]\n"
     ]
    }
   ],
   "source": [
    "# NXM 크기의 2차원 리스트 초기화 (잘못된 방법)\n",
    "n = 3\n",
    "m = 4\n",
    "array = [[0] * m] * n\n",
    "print(array)\n",
    "\n",
    "array[1][1] = 5\n",
    "print(array)"
   ]
  },
  {
   "cell_type": "markdown",
   "id": "332668e4",
   "metadata": {},
   "source": [
    "&nbsp;\n",
    "# 리스트 관련 기타 메서드\n",
    "|함수명|사용법|설명|시간복잡도|\n",
    "|:----:|:-----:|:--------:|:---:|\n",
    "|append()|변수명.append()|리스트에 원소를 하나 삽입할 때 사용한다.|O(1)|\n",
    "|sort()|변수명.sort()|기본 정렬 기능으로 오름차순으로 정렬한다.|O(NlogN)|\n",
    "|      |변수명.sort(reverse=True)|내림차순으로 정렬한다.|O(NlogN)|\n",
    "|reverse()|변수명.reverse()|리스트 원소의 순서를 모두 뒤집어 놓는다.|O(N)|\n",
    "|insert()|insert(삽입할위치 인덱스, 삽입할 값)|특정한 인덱스 위치에 원소를 삽입할 때 사용한다.|O(N)|\n",
    "|count()|변수명.count(특정 값)|리스트에서 특정한 값을 가지는 데이터의 개수를 셀 때 사용한다.|O(N)|\n",
    "|remove()|변수명.remove(특정 값)|특정한 값을 갖는 원소를 제거하는데 값을 가진 원소가 여러 개면 하나만 제거한다.|O(N)|"
   ]
  },
  {
   "cell_type": "code",
   "execution_count": null,
   "id": "f336577b",
   "metadata": {},
   "outputs": [],
   "source": []
  }
 ],
 "metadata": {
  "kernelspec": {
   "display_name": "Python 3 (ipykernel)",
   "language": "python",
   "name": "python3"
  },
  "language_info": {
   "codemirror_mode": {
    "name": "ipython",
    "version": 3
   },
   "file_extension": ".py",
   "mimetype": "text/x-python",
   "name": "python",
   "nbconvert_exporter": "python",
   "pygments_lexer": "ipython3",
   "version": "3.9.7"
  }
 },
 "nbformat": 4,
 "nbformat_minor": 5
}
