{
 "cells": [
  {
   "cell_type": "markdown",
   "id": "44d5678a",
   "metadata": {},
   "source": [
    "# 문자열 자료형\n",
    "\n",
    "## 문자열 초기화"
   ]
  },
  {
   "cell_type": "code",
   "execution_count": 2,
   "id": "55f5cd4a",
   "metadata": {
    "scrolled": true
   },
   "outputs": [
    {
     "name": "stdout",
     "output_type": "stream",
     "text": [
      "Hello World\n",
      "Don't you know \"python?\"\n"
     ]
    }
   ],
   "source": [
    "data = \"Hello World\"\n",
    "print(data)\n",
    "\n",
    "data = \"Don't you know \\\"python?\\\"\"\n",
    "print(data)"
   ]
  },
  {
   "cell_type": "markdown",
   "id": "f1dde6f3",
   "metadata": {},
   "source": []
  },
  {
   "cell_type": "code",
   "execution_count": null,
   "id": "b2e4c579",
   "metadata": {},
   "outputs": [],
   "source": []
  }
 ],
 "metadata": {
  "kernelspec": {
   "display_name": "Python 3 (ipykernel)",
   "language": "python",
   "name": "python3"
  },
  "language_info": {
   "codemirror_mode": {
    "name": "ipython",
    "version": 3
   },
   "file_extension": ".py",
   "mimetype": "text/x-python",
   "name": "python",
   "nbconvert_exporter": "python",
   "pygments_lexer": "ipython3",
   "version": "3.9.7"
  }
 },
 "nbformat": 4,
 "nbformat_minor": 5
}
