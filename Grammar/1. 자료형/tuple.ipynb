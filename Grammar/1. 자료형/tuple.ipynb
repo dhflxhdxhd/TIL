{
 "cells": [
  {
   "cell_type": "markdown",
   "id": "26ca1690",
   "metadata": {},
   "source": [
    "# tuple 자료형\n",
    "\n",
    "### - 튜플은 한 번 선언된 값을 변경할 수 없다. \n",
    "### - 리스트는 대괄호를 이용하지만, 튜플은 소괄호를 이용한다."
   ]
  },
  {
   "cell_type": "code",
   "execution_count": 2,
   "id": "25b15af9",
   "metadata": {},
   "outputs": [
    {
     "name": "stdout",
     "output_type": "stream",
     "text": [
      "(1, 2, 3, 4)\n"
     ]
    }
   ],
   "source": [
    "a = (1,2,3,4)\n",
    "print(a)\n",
    "\n",
    "#error > immutable\n",
    "#a[2] = 7"
   ]
  },
  {
   "cell_type": "markdown",
   "id": "b5e5e4ab",
   "metadata": {},
   "source": [
    "### 그래프 알고리즘 구현할 때 자주 사용.\n",
    "다익스트라 최단 경로 알고리즘처럼 최단 경로를 찾아주는 알고리즘의 내부에서는 우선순위 큐 사용.\n",
    "해당 알고리즘에서 우선순위 큐에 한 번 들어간 값은 변경되지 않음. \n",
    "그 우선순위 큐에 들어가는 데이터를 튜플로 구성하여 소스코드 작성"
   ]
  }
 ],
 "metadata": {
  "kernelspec": {
   "display_name": "Python 3 (ipykernel)",
   "language": "python",
   "name": "python3"
  },
  "language_info": {
   "codemirror_mode": {
    "name": "ipython",
    "version": 3
   },
   "file_extension": ".py",
   "mimetype": "text/x-python",
   "name": "python",
   "nbconvert_exporter": "python",
   "pygments_lexer": "ipython3",
   "version": "3.9.7"
  }
 },
 "nbformat": 4,
 "nbformat_minor": 5
}
